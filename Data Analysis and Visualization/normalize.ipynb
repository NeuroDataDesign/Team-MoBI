{
 "cells": [
  {
   "cell_type": "code",
   "execution_count": null,
   "metadata": {},
   "outputs": [],
   "source": [
    "import os\n",
    "import pandas as pd\n",
    "import numpy as np\n",
    "import warnings\n",
    "\n",
    "warnings.filterwarnings(\"ignore\")\n",
    "\n",
    "# Locate the directory\n",
    "DIRECTORY = 'C:\\\\Users\\\\Owner\\\\Desktop\\\\school\\\\bdd'\n",
    "\n",
    "# List of columns to exclude from normalization\n",
    "drop_ls = [\n",
    "    \"expected_time\",\n",
    "    \"flip_time\",\n",
    "    \"stim_pos\",\n",
    "    \"user_pos\",\n",
    "    \"lambda_val\",\n",
    "    \"change_rate_x\",\n",
    "]\n",
    "\n",
    "# Identify columns to normalize\n",
    "columns_to_normalize = df.columns.difference(drop_ls)\n"
   ]
  },
  {
   "cell_type": "code",
   "execution_count": 6,
   "metadata": {},
   "outputs": [],
   "source": [
    "arr = [f for f in os.listdir(DIRECTORY+'\\\\hopkins_export\\\\') if f.endswith('.csv')]\n",
    "\n",
    "for i, subject_ in enumerate(arr):\n",
    "    path = DIRECTORY+'\\\\hopkins_export\\\\' + subject_\n",
    "    subject = pd.read_csv(path)\n",
    "    norm_sub = subject.copy()\n",
    "    norm_sub[columns_to_normalize] = (subject[columns_to_normalize] - subject[columns_to_normalize].min()) / (\n",
    "    subject[columns_to_normalize].max() - subject[columns_to_normalize].min()).replace(0, np.nan)\n",
    "\n",
    "    og_file = os.path.basename(path)\n",
    "    out_dir = os.path.join(DIRECTORY, \"minmax_subjects\")\n",
    "    os.makedirs(out_dir, exist_ok=True)\n",
    "    norm_file = \"minmax_\" + os.path.splitext(og_file)[0] + \".csv\"\n",
    "\n",
    "    norm_sub.to_csv(os.path.join(out_dir, norm_file), index=False)\n"
   ]
  }
 ],
 "metadata": {
  "kernelspec": {
   "display_name": "base",
   "language": "python",
   "name": "python3"
  },
  "language_info": {
   "codemirror_mode": {
    "name": "ipython",
    "version": 3
   },
   "file_extension": ".py",
   "mimetype": "text/x-python",
   "name": "python",
   "nbconvert_exporter": "python",
   "pygments_lexer": "ipython3",
   "version": "3.12.4"
  }
 },
 "nbformat": 4,
 "nbformat_minor": 2
}
