{
 "cells": [
  {
   "cell_type": "markdown",
   "metadata": {},
   "source": [
    "# Robust Scaling Normalization"
   ]
  },
  {
   "cell_type": "code",
   "execution_count": 12,
   "metadata": {},
   "outputs": [],
   "source": [
    "import sklearn\n",
    "import numpy as np\n",
    "import pandas as pd\n",
    "from sklearn.preprocessing import RobustScaler\n",
    "import matplotlib.pyplot as plt\n",
    "import os"
   ]
  },
  {
   "cell_type": "code",
   "execution_count": 13,
   "metadata": {},
   "outputs": [],
   "source": [
    "# the list of columns to be dropped\n",
    "drop_ls = [\n",
    "    \"expected_time\",\n",
    "    \"flip_time\",\n",
    "    \"stim_pos\",\n",
    "    \"user_pos\",\n",
    "    \"lambda_val\",\n",
    "    \"change_rate_x\",\n",
    "]\n",
    "scaler = RobustScaler()"
   ]
  },
  {
   "cell_type": "code",
   "execution_count": 14,
   "metadata": {},
   "outputs": [],
   "source": [
    "# Define directory\n",
    "DIRECTORY = 'hopkins_export/'\n",
    "\n",
    "subject_files = [f for f in os.listdir(DIRECTORY) if f.endswith('.csv')]\n",
    "for subject_file in subject_files:\n",
    "    # Load each subject dataset\n",
    "    subject_data = pd.read_csv(os.path.join(DIRECTORY, subject_file))\n",
    "    subject_data_drop = subject_data.drop(columns=drop_ls)\n",
    "    subject_data_keep = subject_data[drop_ls]\n",
    "    subject_scaled = scaler.fit_transform(subject_data_drop)\n",
    "    subject_scaled = pd.DataFrame(subject_scaled, columns=subject_data_drop.columns)\n",
    "    subject_final = pd.concat([subject_data_keep, subject_scaled], axis = 1)\n",
    "    subject_final = subject_final[subject_data.columns]\n",
    "    subject_final.to_csv(f'Robust_Scaling_{subject_file}', index = False)"
   ]
  }
 ],
 "metadata": {
  "kernelspec": {
   "display_name": "base",
   "language": "python",
   "name": "python3"
  },
  "language_info": {
   "codemirror_mode": {
    "name": "ipython",
    "version": 3
   },
   "file_extension": ".py",
   "mimetype": "text/x-python",
   "name": "python",
   "nbconvert_exporter": "python",
   "pygments_lexer": "ipython3",
   "version": "3.12.4"
  }
 },
 "nbformat": 4,
 "nbformat_minor": 2
}
