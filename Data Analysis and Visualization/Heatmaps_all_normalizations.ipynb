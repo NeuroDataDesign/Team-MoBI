{
 "cells": [
  {
   "cell_type": "markdown",
   "metadata": {},
   "source": [
    "# Heatmaps Code"
   ]
  },
  {
   "cell_type": "code",
   "execution_count": null,
   "metadata": {},
   "outputs": [],
   "source": [
    "import os\n",
    "import pandas as pd\n",
    "import numpy as np\n",
    "import matplotlib.pyplot as plt\n",
    "import seaborn as sns"
   ]
  },
  {
   "cell_type": "code",
   "execution_count": null,
   "metadata": {},
   "outputs": [],
   "source": [
    "drop_ls = [\n",
    "    \"expected_time\",\n",
    "    \"flip_time\",\n",
    "    \"stim_pos\",\n",
    "    \"user_pos\",\n",
    "    \"lambda_val\",\n",
    "    \"change_rate_x\",\n",
    "    #\"eda_peaks\",                   # UNCOMMENT THIS FEATURE TO EXCLUDE FROM HEATMAP\n",
    "    #\"ecg_heart_rate\"               # UNCOMMENT THIS FEATURE TO EXCLUDE FROM HEATMAP\n",
    "]"
   ]
  },
  {
   "cell_type": "code",
   "execution_count": null,
   "metadata": {},
   "outputs": [],
   "source": [
    "subject = pd.read_csv('hopkins_export\\sub-M10901084_cpt.csv')\n",
    "# EDIT BELOW TO SELECT APPROPRIATE FILE\n",
    "norm_subject = pd.read_csv('drive-download-20241031T083139Z-001\\winsorized_normalized_sub-M10901084_cpt.csv')\n",
    "\n",
    "subject_features = subject[:50].drop(columns=drop_ls)\n",
    "norm_subject_features = norm_subject[:50].drop(columns=drop_ls)\n",
    "\n",
    "fig, axes = plt.subplots(1,2, figsize=(14,6))\n",
    "sns.heatmap(subject_features, cmap='Blues', ax=axes[0], annot=False)\n",
    "axes[0].set_title('Subject 1 Data Before Normalization')\n",
    "\n",
    "sns.heatmap(norm_subject_features, cmap='Blues', ax=axes[1], annot=False)\n",
    "# EDIT TITLE BELOW DEPENDING ON NORMALIZATION TYPE\n",
    "axes[1].set_title(\"Subject 1 Data After Robust Scaling Normalization\")\n",
    "\n",
    "plt.tight_layout()\n",
    "plt.show()"
   ]
  }
 ],
 "metadata": {
  "language_info": {
   "name": "python"
  }
 },
 "nbformat": 4,
 "nbformat_minor": 2
}
