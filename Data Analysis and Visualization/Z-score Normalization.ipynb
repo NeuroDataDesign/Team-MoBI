{
 "cells": [
  {
   "cell_type": "markdown",
   "metadata": {},
   "source": [
    "# Z-score Normalization"
   ]
  },
  {
   "cell_type": "code",
   "execution_count": 1,
   "metadata": {},
   "outputs": [],
   "source": [
    "import sklearn\n",
    "import numpy as np\n",
    "import pandas as pd\n",
    "import matplotlib.pyplot as plt\n",
    "import os"
   ]
  },
  {
   "cell_type": "code",
   "execution_count": null,
   "metadata": {},
   "outputs": [],
   "source": [
    "# List of columns to be dropped\n",
    "drop_ls = [\n",
    "    \"expected_time\",\n",
    "    \"flip_time\",\n",
    "    \"stim_pos\",\n",
    "    \"user_pos\",\n",
    "    \"lambda_val\",\n",
    "    \"change_rate_x\",\n",
    "]"
   ]
  },
  {
   "cell_type": "code",
   "execution_count": null,
   "metadata": {},
   "outputs": [],
   "source": [
    "# Define directory\n",
    "DIRECTORY = 'hopkins_export/'\n",
    "\n",
    "subject_files = [f for f in os.listdir(DIRECTORY) if f.endswith('.csv')]\n",
    "for subject_file in subject_files:\n",
    "    # Load each subject dataset\n",
    "    subject_data = pd.read_csv(os.path.join(DIRECTORY, subject_file))\n",
    "    # Drop unnecessary columns\n",
    "    subject_data_drop = subject_data.drop(columns=drop_ls)\n",
    "    subject_data_keep = subject_data[drop_ls]\n",
    "    # Calculate mean and standard deviation\n",
    "    mean = subject_data_drop.mean()\n",
    "    std_dev = subject_data_drop.std()\n",
    "    # Apply z-score normalization\n",
    "    subject_norm = (subject_data_drop - mean) / std_dev\n",
    "    subject_norm = pd.DataFrame(subject_norm, columns=subject_data_drop.columns)\n",
    "    subject_final = pd.concat([subject_data_keep, subject_norm], axis = 1)\n",
    "    subject_final = subject_final[subject_data.columns]\n",
    "    # Save normalized data as csv files\n",
    "    subject_final.to_csv(f'Z-score_Normalization_{subject_file}', index = False)"
   ]
  }
 ],
 "metadata": {
  "kernelspec": {
   "display_name": "base",
   "language": "python",
   "name": "python3"
  },
  "language_info": {
   "codemirror_mode": {
    "name": "ipython",
    "version": 3
   },
   "file_extension": ".py",
   "mimetype": "text/x-python",
   "name": "python",
   "nbconvert_exporter": "python",
   "pygments_lexer": "ipython3",
   "version": "3.12.4"
  }
 },
 "nbformat": 4,
 "nbformat_minor": 2
}
