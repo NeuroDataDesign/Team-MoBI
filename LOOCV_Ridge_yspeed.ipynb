{
 "cells": [
  {
   "cell_type": "code",
   "execution_count": 2,
   "id": "725a95f7-b57f-4e1a-94bc-f4566e4d8b79",
   "metadata": {},
   "outputs": [],
   "source": [
    "#Importing Libraries\n",
    "import os\n",
    "import pandas as pd\n",
    "import numpy as np\n",
    "import matplotlib.pyplot as plt\n",
    "from sklearn.model_selection import train_test_split\n",
    "from sklearn.linear_model import Ridge\n",
    "from sklearn.metrics import r2_score\n",
    "from sklearn.model_selection import LeaveOneOut, cross_val_score\n",
    "from numpy import mean\n",
    "import warnings\n",
    "\n",
    "\n",
    "warnings.filterwarnings(\"ignore\")"
   ]
  },
  {
   "cell_type": "code",
   "execution_count": 3,
   "id": "50a8e15a-4ec9-4c9c-b1f2-4c90b179fc66",
   "metadata": {},
   "outputs": [],
   "source": [
    "# locate the directory\n",
    "DIRECTORY = \"/home/akira/MoBI/cpcst_hopkins/\"\n",
    "arr = os.listdir(DIRECTORY)"
   ]
  },
  {
   "cell_type": "code",
   "execution_count": 4,
   "id": "83d760d7-b21a-4200-8057-020221374364",
   "metadata": {},
   "outputs": [],
   "source": [
    "def pre_process(subject,size):\n",
    "    # The list of columns to be dropped\n",
    "    drop_ls = [\n",
    "    \"expected_time\",\n",
    "    \"flip_time\",\n",
    "    \"stim_pos\",\n",
    "    \"user_pos\",\n",
    "    \"lambda_val\",\n",
    "    \"change_rate_x\",\n",
    "    ]\n",
    "    loo = LeaveOneOut()\n",
    "    # the feature matrix in array form\n",
    "    X = subject.drop(columns=drop_ls).to_numpy()\n",
    "    #print(\"The shape of X:\", X.shape)\n",
    "    #y_pos_dif = (subject[\"user_pos\"].to_numpy() - subject[\"stim_pos\"].to_numpy())\n",
    "    y_speed = subject[\"change_rate_x\"].to_numpy()  # speed of change\n",
    "    y = y_speed\n",
    "    X_train, X_test, y_train, y_test = train_test_split(X[:size], y[:size], test_size=0.2, random_state=23)  # only 100 samples are used here\n",
    "    #X_train = loo.split(X[:size])\n",
    "    #X_test = ~\n",
    "    #y_train = loo.split(y[:size])\n",
    "    #y_test = ~\n",
    "    return X_train, X_test, y_train, y_test"
   ]
  },
  {
   "cell_type": "code",
   "execution_count": 5,
   "id": "3346c901-a684-4cc2-91be-2f6ce1029c12",
   "metadata": {},
   "outputs": [],
   "source": [
    "def model_ridge(X_train, X_test, y_train, y_test):\n",
    "    loo = LeaveOneOut()\n",
    "    rr = Ridge(random_state=23)\n",
    "    return mean(cross_val_score(rr, X_train, y_train, scoring='neg_mean_absolute_error', cv=loo, n_jobs=-1))"
   ]
  },
  {
   "cell_type": "code",
   "execution_count": 6,
   "id": "1c1fa3e4-b52b-4556-a82d-a305d3bf8c00",
   "metadata": {},
   "outputs": [],
   "source": [
    "scores=[]\n",
    "sub_plot=[]\n",
    "for i in range(0,61):\n",
    "    subject = pd.read_csv(DIRECTORY + arr[i])\n",
    "    rows,columns = subject.shape\n",
    "    X_train, X_test, y_train, y_test = pre_process(subject, rows)\n",
    "    val = model_ridge(X_train, X_test, y_train, y_test)\n",
    "    sub_plot.append(i+1)\n",
    "    scores.append(val)"
   ]
  },
  {
   "cell_type": "code",
   "execution_count": 15,
   "id": "776e3d6b-3f56-445d-9f1d-c2e9c5990113",
   "metadata": {},
   "outputs": [
    {
     "data": {
      "text/plain": [
       "[np.float64(-0.000403192050533647),\n",
       " np.float64(-0.0020606771935916465),\n",
       " np.float64(-0.0002100627413880081),\n",
       " np.float64(-0.0006831367104210322),\n",
       " np.float64(-0.00028241557644451853),\n",
       " np.float64(-0.0003843168823895667),\n",
       " np.float64(-0.00031460509481347177),\n",
       " np.float64(-0.00045689415247654344),\n",
       " np.float64(-0.00012572302486345984),\n",
       " np.float64(-0.0001101207079320469),\n",
       " np.float64(-0.0006487897398730692),\n",
       " np.float64(-0.00031061239484100515),\n",
       " np.float64(-0.0003206658297536237),\n",
       " np.float64(-0.0005213432162888956),\n",
       " np.float64(-0.0004536265519991722),\n",
       " np.float64(-0.00021770349438930844),\n",
       " np.float64(-0.00014371635268780675),\n",
       " np.float64(-0.000339455651070003),\n",
       " np.float64(-0.00012765780641588623),\n",
       " np.float64(-0.000911619956996381),\n",
       " np.float64(-0.0006428894541499364),\n",
       " np.float64(-0.00015820365643838538),\n",
       " np.float64(-0.00026689203290321966),\n",
       " np.float64(-0.0002076526263493904),\n",
       " np.float64(-0.00017341360797261076),\n",
       " np.float64(-0.00034238173089206296),\n",
       " np.float64(-0.0004757939503078985),\n",
       " np.float64(-0.00025841031879316167),\n",
       " np.float64(-0.0004928620891197533),\n",
       " np.float64(-0.00010697537983513384),\n",
       " np.float64(-0.0006928434152980629),\n",
       " np.float64(-0.00027831104928402966),\n",
       " np.float64(-0.0002215409531121844),\n",
       " np.float64(-0.00021182582843913734),\n",
       " np.float64(-0.00026262307171306016),\n",
       " np.float64(-0.00014792907806707436),\n",
       " np.float64(-0.0002560123944644895),\n",
       " np.float64(-0.000394955152360422),\n",
       " np.float64(-0.00023919192889971865),\n",
       " np.float64(-0.0003824671844461283),\n",
       " np.float64(-0.0005834235161774414),\n",
       " np.float64(-0.0002962056630556287),\n",
       " np.float64(-0.0002795025491392701),\n",
       " np.float64(-0.000281466316840343),\n",
       " np.float64(-8.563642694826157e-05),\n",
       " np.float64(-0.0001496365734479904),\n",
       " np.float64(-0.00022245710799450002),\n",
       " np.float64(-0.00013560449908459017),\n",
       " np.float64(-0.00011756600839034398),\n",
       " np.float64(-0.00030791803965174176),\n",
       " np.float64(-0.00016750713201242146),\n",
       " np.float64(-0.00030410682392491983),\n",
       " np.float64(-0.0002512343990572766),\n",
       " np.float64(-0.00023809098805690324),\n",
       " np.float64(-0.00024107083640447798),\n",
       " np.float64(-0.0001848697330819704),\n",
       " np.float64(-0.0018311095083773893),\n",
       " np.float64(-0.0014048949333462634),\n",
       " np.float64(-0.00023755172573624707),\n",
       " np.float64(-0.00025287793283767466),\n",
       " np.float64(-0.0007387811222207201)]"
      ]
     },
     "execution_count": 15,
     "metadata": {},
     "output_type": "execute_result"
    }
   ],
   "source": [
    "scores"
   ]
  },
  {
   "cell_type": "code",
   "execution_count": 16,
   "id": "658a7066-bb32-4c33-9116-e25878dc6ee4",
   "metadata": {},
   "outputs": [
    {
     "data": {
      "text/plain": [
       "[1,\n",
       " 2,\n",
       " 3,\n",
       " 4,\n",
       " 5,\n",
       " 6,\n",
       " 7,\n",
       " 8,\n",
       " 9,\n",
       " 10,\n",
       " 11,\n",
       " 12,\n",
       " 13,\n",
       " 14,\n",
       " 15,\n",
       " 16,\n",
       " 17,\n",
       " 18,\n",
       " 19,\n",
       " 20,\n",
       " 21,\n",
       " 22,\n",
       " 23,\n",
       " 24,\n",
       " 25,\n",
       " 26,\n",
       " 27,\n",
       " 28,\n",
       " 29,\n",
       " 30,\n",
       " 31,\n",
       " 32,\n",
       " 33,\n",
       " 34,\n",
       " 35,\n",
       " 36,\n",
       " 37,\n",
       " 38,\n",
       " 39,\n",
       " 40,\n",
       " 41,\n",
       " 42,\n",
       " 43,\n",
       " 44,\n",
       " 45,\n",
       " 46,\n",
       " 47,\n",
       " 48,\n",
       " 49,\n",
       " 50,\n",
       " 51,\n",
       " 52,\n",
       " 53,\n",
       " 54,\n",
       " 55,\n",
       " 56,\n",
       " 57,\n",
       " 58,\n",
       " 59,\n",
       " 60,\n",
       " 61]"
      ]
     },
     "execution_count": 16,
     "metadata": {},
     "output_type": "execute_result"
    }
   ],
   "source": [
    "sub_plot"
   ]
  },
  {
   "cell_type": "code",
   "execution_count": 20,
   "id": "7c58f023-333b-4aea-8d56-8f0bf7d8e4dd",
   "metadata": {},
   "outputs": [
    {
     "data": {
      "image/png": "[encoded data removed]",
      "text/plain": [
       "<Figure size 640x480 with 1 Axes>"
      ]
     },
     "metadata": {},
     "output_type": "display_data"
    }
   ],
   "source": [
    "x = np.array(sub_plot)\n",
    "y = np.array(scores)\n",
    "plt.plot(x, y ,'-o')\n",
    "plt.title('y_speed Ridge LOOCV')\n",
    "plt.xlabel(\"Subjects\")\n",
    "plt.ylabel(\"Accuracy\")\n",
    "\n",
    "plt.show()"
   ]
  },
  {
   "cell_type": "code",
   "execution_count": 21,
   "id": "56b51b58-ec12-446e-83bb-d3dff8270ff8",
   "metadata": {},
   "outputs": [
    {
     "data": {
      "text/plain": [
       "17730"
      ]
     },
     "execution_count": 21,
     "metadata": {},
     "output_type": "execute_result"
    }
   ],
   "source": [
    "rows"
   ]
  },
  {
   "cell_type": "code",
   "execution_count": null,
   "id": "1bb169db-0b91-4e53-a3f4-aea8a8f4a5ec",
   "metadata": {},
   "outputs": [],
   "source": []
  }
 ],
 "metadata": {
  "kernelspec": {
   "display_name": "Python (ml)",
   "language": "python",
   "name": "ml"
  },
  "language_info": {
   "codemirror_mode": {
    "name": "ipython",
    "version": 3
   },
   "file_extension": ".py",
   "mimetype": "text/x-python",
   "name": "python",
   "nbconvert_exporter": "python",
   "pygments_lexer": "ipython3",
   "version": "3.10.12"
  }
 },
 "nbformat": 4,
 "nbformat_minor": 5
}
