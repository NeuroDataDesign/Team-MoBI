{
 "cells": [
  {
   "cell_type": "code",
   "execution_count": 1,
   "id": "725a95f7-b57f-4e1a-94bc-f4566e4d8b79",
   "metadata": {},
   "outputs": [],
   "source": [
    "#Importing Libraries\n",
    "import os\n",
    "import pandas as pd\n",
    "import numpy as np\n",
    "import matplotlib.pyplot as plt\n",
    "from sklearn.model_selection import train_test_split\n",
    "from sklearn.linear_model import Ridge\n",
    "from sklearn.metrics import r2_score\n",
    "from sklearn.model_selection import LeaveOneOut, cross_val_score\n",
    "from numpy import mean\n",
    "import warnings\n",
    "\n",
    "\n",
    "warnings.filterwarnings(\"ignore\")"
   ]
  },
  {
   "cell_type": "code",
   "execution_count": 2,
   "id": "50a8e15a-4ec9-4c9c-b1f2-4c90b179fc66",
   "metadata": {},
   "outputs": [],
   "source": [
    "# locate the directory\n",
    "DIRECTORY = \"/home/akira/MoBI/cpcst_hopkins/\"\n",
    "arr = os.listdir(DIRECTORY)"
   ]
  },
  {
   "cell_type": "code",
   "execution_count": 3,
   "id": "83d760d7-b21a-4200-8057-020221374364",
   "metadata": {},
   "outputs": [],
   "source": [
    "def pre_process(subject,size):\n",
    "    # The list of columns to be dropped\n",
    "    drop_ls = [\n",
    "    \"expected_time\",\n",
    "    \"flip_time\",\n",
    "    \"stim_pos\",\n",
    "    \"user_pos\",\n",
    "    \"lambda_val\",\n",
    "    \"change_rate_x\",\n",
    "    ]\n",
    "    loo = LeaveOneOut()\n",
    "    # the feature matrix in array form\n",
    "    X = subject.drop(columns=drop_ls).to_numpy()\n",
    "    #print(\"The shape of X:\", X.shape)\n",
    "    y_pos_dif = (subject[\"user_pos\"].to_numpy() - subject[\"stim_pos\"].to_numpy())\n",
    "    y = y_pos_dif\n",
    "    X_train, X_test, y_train, y_test = train_test_split(X[:size], y[:size], test_size=0.2, random_state=23)  # only 100 samples are used here\n",
    "    #X_train = loo.split(X[:size])\n",
    "    #X_test = ~\n",
    "    #y_train = loo.split(y[:size])\n",
    "    #y_test = ~\n",
    "    return X_train, X_test, y_train, y_test"
   ]
  },
  {
   "cell_type": "code",
   "execution_count": 4,
   "id": "3346c901-a684-4cc2-91be-2f6ce1029c12",
   "metadata": {},
   "outputs": [],
   "source": [
    "def model_ridge(X_train, X_test, y_train, y_test):\n",
    "    loo = LeaveOneOut()\n",
    "    rr = Ridge(random_state=23)\n",
    "    return mean(cross_val_score(rr, X_train, y_train, scoring='neg_mean_absolute_error', cv=loo, n_jobs=-1))"
   ]
  },
  {
   "cell_type": "code",
   "execution_count": 5,
   "id": "6afc3bdc-daa4-4579-ad02-3156f53a084f",
   "metadata": {},
   "outputs": [],
   "source": [
    "#writing for one subject \n",
    "subject = pd.read_csv(DIRECTORY + arr[0])\n",
    "temp1 = pd.read_csv(DIRECTORY + arr[1])\n",
    "temp2 = pd.read_csv(DIRECTORY + arr[2])\n",
    "frames = [subject, temp1, temp2]\n",
    "result = pd.concat(frames)\n"
   ]
  },
  {
   "cell_type": "code",
   "execution_count": 6,
   "id": "4ceb094b-8c7d-49d3-a62d-a5177cebaabc",
   "metadata": {},
   "outputs": [
    {
     "data": {
      "text/plain": [
       "17790"
      ]
     },
     "execution_count": 6,
     "metadata": {},
     "output_type": "execute_result"
    }
   ],
   "source": [
    "rows,columns = subject.shape\n",
    "rows"
   ]
  },
  {
   "cell_type": "code",
   "execution_count": 7,
   "id": "5ed0466a-6084-4cd3-9a4f-c11aa633f1fa",
   "metadata": {},
   "outputs": [
    {
     "data": {
      "text/plain": [
       "array([[ 7.09945219e-01,  5.31389045e+02,  8.48242728e+01, ...,\n",
       "         4.80950561e-02, -3.55096564e-03, -1.58303125e-02],\n",
       "       [ 7.04949336e-01,  5.52188086e+02,  8.44763463e+01, ...,\n",
       "         5.19925331e-02,  2.31390376e-03,  1.09090597e-02],\n",
       "       [ 6.94544305e-01,  3.79118702e+02,  8.60599346e+01, ...,\n",
       "         5.28251023e-02,  1.61086001e-03,  1.43119579e-02],\n",
       "       ...,\n",
       "       [ 6.95982946e-01,  3.79686252e+02,  8.58114275e+01, ...,\n",
       "         1.88167577e-02, -6.63076718e-03,  4.91648877e-02],\n",
       "       [ 6.86427886e-01,  3.15119086e+02,  8.54874856e+01, ...,\n",
       "         8.87618927e-02,  3.54264797e-03,  2.45748395e-02],\n",
       "       [ 7.05570355e-01,  2.99461381e+02,  8.54203558e+01, ...,\n",
       "         1.68150910e-02,  4.07623008e-04, -6.06977089e-03]])"
      ]
     },
     "execution_count": 7,
     "metadata": {},
     "output_type": "execute_result"
    }
   ],
   "source": [
    "X_train, X_test, y_train, y_test = pre_process(subject, rows)\n",
    "X_train"
   ]
  },
  {
   "cell_type": "code",
   "execution_count": 8,
   "id": "8692ba20-3957-4c2b-be05-befa3b1dbf1e",
   "metadata": {},
   "outputs": [],
   "source": [
    "val = model_ridge(X_train, X_test, y_train, y_test)"
   ]
  },
  {
   "cell_type": "code",
   "execution_count": 9,
   "id": "abc2e132-8a28-4859-9ac9-49e0802288e8",
   "metadata": {},
   "outputs": [
    {
     "data": {
      "text/plain": [
       "np.float64(-0.029519217164631864)"
      ]
     },
     "execution_count": 9,
     "metadata": {},
     "output_type": "execute_result"
    }
   ],
   "source": [
    "val"
   ]
  },
  {
   "cell_type": "code",
   "execution_count": 10,
   "id": "1c1fa3e4-b52b-4556-a82d-a305d3bf8c00",
   "metadata": {},
   "outputs": [],
   "source": [
    "scores=[]\n",
    "sub_plot=[]\n",
    "for i in range(0,61):\n",
    "    subject = pd.read_csv(DIRECTORY + arr[i])\n",
    "    rows,columns = subject.shape\n",
    "    X_train, X_test, y_train, y_test = pre_process(subject, rows)\n",
    "    val = model_ridge(X_train, X_test, y_train, y_test)\n",
    "    sub_plot.append(i+1)\n",
    "    scores.append(val)"
   ]
  },
  {
   "cell_type": "code",
   "execution_count": 11,
   "id": "776e3d6b-3f56-445d-9f1d-c2e9c5990113",
   "metadata": {},
   "outputs": [
    {
     "data": {
      "text/plain": [
       "[np.float64(-0.029519217164631864),\n",
       " np.float64(-0.15608178939403045),\n",
       " np.float64(-0.010818046887318893),\n",
       " np.float64(-0.06839591852616815),\n",
       " np.float64(-0.015821551300340537),\n",
       " np.float64(-0.028865681684626932),\n",
       " np.float64(-0.01924491033878995),\n",
       " np.float64(-0.028548564465717956),\n",
       " np.float64(-0.007833292575101817),\n",
       " np.float64(-0.009316876011579584),\n",
       " np.float64(-0.05623600037531418),\n",
       " np.float64(-0.01743990253602488),\n",
       " np.float64(-0.020659662414057336),\n",
       " np.float64(-0.031059948512458108),\n",
       " np.float64(-0.02788896852684411),\n",
       " np.float64(-0.011984960489012935),\n",
       " np.float64(-0.009839678581342026),\n",
       " np.float64(-0.020901646178442434),\n",
       " np.float64(-0.008207002516914495),\n",
       " np.float64(-0.05283704272138231),\n",
       " np.float64(-0.04645794260692926),\n",
       " np.float64(-0.012221845217164275),\n",
       " np.float64(-0.02230749235177692),\n",
       " np.float64(-0.015477305303236844),\n",
       " np.float64(-0.017937981506765573),\n",
       " np.float64(-0.024779033823397273),\n",
       " np.float64(-0.03225371368014248),\n",
       " np.float64(-0.018538720291979366),\n",
       " np.float64(-0.07656448957757193),\n",
       " np.float64(-0.006837936882819088),\n",
       " np.float64(-0.05107910192064493),\n",
       " np.float64(-0.019058091611852963),\n",
       " np.float64(-0.013363904275463183),\n",
       " np.float64(-0.021225346217372973),\n",
       " np.float64(-0.028684656857459256),\n",
       " np.float64(-0.0074644997623279615),\n",
       " np.float64(-0.014671339868186908),\n",
       " np.float64(-0.03129671970160759),\n",
       " np.float64(-0.017120256614864604),\n",
       " np.float64(-0.01711172625810385),\n",
       " np.float64(-0.02979492801647393),\n",
       " np.float64(-0.022608310475387416),\n",
       " np.float64(-0.027081015906144194),\n",
       " np.float64(-0.01483912620332236),\n",
       " np.float64(-0.007047735427479339),\n",
       " np.float64(-0.01050729681825273),\n",
       " np.float64(-0.013989595625516597),\n",
       " np.float64(-0.007632448287386879),\n",
       " np.float64(-0.013796713562431043),\n",
       " np.float64(-0.020476239516737074),\n",
       " np.float64(-0.01253853032611889),\n",
       " np.float64(-0.03038469543997072),\n",
       " np.float64(-0.013638113098712821),\n",
       " np.float64(-0.012239538922391366),\n",
       " np.float64(-0.02377146739373154),\n",
       " np.float64(-0.014019082656207124),\n",
       " np.float64(-0.10500494708977415),\n",
       " np.float64(-0.10959862739454057),\n",
       " np.float64(-0.016161870646249205),\n",
       " np.float64(-0.02148995073207534),\n",
       " np.float64(-0.0777993411899082)]"
      ]
     },
     "execution_count": 11,
     "metadata": {},
     "output_type": "execute_result"
    }
   ],
   "source": [
    "scores"
   ]
  },
  {
   "cell_type": "code",
   "execution_count": 12,
   "id": "658a7066-bb32-4c33-9116-e25878dc6ee4",
   "metadata": {},
   "outputs": [
    {
     "data": {
      "text/plain": [
       "[1,\n",
       " 2,\n",
       " 3,\n",
       " 4,\n",
       " 5,\n",
       " 6,\n",
       " 7,\n",
       " 8,\n",
       " 9,\n",
       " 10,\n",
       " 11,\n",
       " 12,\n",
       " 13,\n",
       " 14,\n",
       " 15,\n",
       " 16,\n",
       " 17,\n",
       " 18,\n",
       " 19,\n",
       " 20,\n",
       " 21,\n",
       " 22,\n",
       " 23,\n",
       " 24,\n",
       " 25,\n",
       " 26,\n",
       " 27,\n",
       " 28,\n",
       " 29,\n",
       " 30,\n",
       " 31,\n",
       " 32,\n",
       " 33,\n",
       " 34,\n",
       " 35,\n",
       " 36,\n",
       " 37,\n",
       " 38,\n",
       " 39,\n",
       " 40,\n",
       " 41,\n",
       " 42,\n",
       " 43,\n",
       " 44,\n",
       " 45,\n",
       " 46,\n",
       " 47,\n",
       " 48,\n",
       " 49,\n",
       " 50,\n",
       " 51,\n",
       " 52,\n",
       " 53,\n",
       " 54,\n",
       " 55,\n",
       " 56,\n",
       " 57,\n",
       " 58,\n",
       " 59,\n",
       " 60,\n",
       " 61]"
      ]
     },
     "execution_count": 12,
     "metadata": {},
     "output_type": "execute_result"
    }
   ],
   "source": [
    "sub_plot"
   ]
  },
  {
   "cell_type": "code",
   "execution_count": 14,
   "id": "74dce774-0dea-4d25-96d2-fa2c838d713f",
   "metadata": {},
   "outputs": [
    {
     "data": {
      "image/png": "[encoded data removed]",
      "text/plain": [
       "<Figure size 640x480 with 1 Axes>"
      ]
     },
     "metadata": {},
     "output_type": "display_data"
    }
   ],
   "source": [
    "x = np.array(sub_plot)\n",
    "y = np.array(scores)\n",
    "plt.plot(x, y, '-o')\n",
    "plt.title(\"y_pos_diff Ridge LOOCV\")\n",
    "plt.xlabel(\"Subjects\")\n",
    "plt.ylabel(\"Accuracy\")\n",
    "\n",
    "plt.show()"
   ]
  },
  {
   "cell_type": "code",
   "execution_count": null,
   "id": "28b500ec-22dd-4bb3-ae4c-65c37f1a6b4d",
   "metadata": {},
   "outputs": [],
   "source": []
  }
 ],
 "metadata": {
  "kernelspec": {
   "display_name": "Python (ml)",
   "language": "python",
   "name": "ml"
  },
  "language_info": {
   "codemirror_mode": {
    "name": "ipython",
    "version": 3
   },
   "file_extension": ".py",
   "mimetype": "text/x-python",
   "name": "python",
   "nbconvert_exporter": "python",
   "pygments_lexer": "ipython3",
   "version": "3.10.12"
  }
 },
 "nbformat": 4,
 "nbformat_minor": 5
}
