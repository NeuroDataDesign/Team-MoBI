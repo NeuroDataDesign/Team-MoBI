{
 "cells": [
  {
   "cell_type": "code",
   "execution_count": 1,
   "id": "725a95f7-b57f-4e1a-94bc-f4566e4d8b79",
   "metadata": {},
   "outputs": [],
   "source": [
    "#Importing Libraries\n",
    "import os\n",
    "import pandas as pd\n",
    "import numpy as np\n",
    "import matplotlib.pyplot as plt\n",
    "from sklearn.model_selection import train_test_split\n",
    "from sklearn.linear_model import Ridge\n",
    "from sklearn.metrics import r2_score\n",
    "from sklearn.model_selection import LeaveOneOut, cross_val_score\n",
    "from numpy import mean\n",
    "import warnings\n",
    "\n",
    "\n",
    "warnings.filterwarnings(\"ignore\")"
   ]
  },
  {
   "cell_type": "code",
   "execution_count": 2,
   "id": "50a8e15a-4ec9-4c9c-b1f2-4c90b179fc66",
   "metadata": {},
   "outputs": [],
   "source": [
    "# locate the directory\n",
    "DIRECTORY = \"/home/akira/MoBI/cpcst_hopkins/\"\n",
    "arr = os.listdir(DIRECTORY)"
   ]
  },
  {
   "cell_type": "code",
   "execution_count": 3,
   "id": "83d760d7-b21a-4200-8057-020221374364",
   "metadata": {},
   "outputs": [],
   "source": [
    "def pre_process(subject,size):\n",
    "    # The list of columns to be dropped\n",
    "    drop_ls = [\n",
    "    \"expected_time\",\n",
    "    \"flip_time\",\n",
    "    \"stim_pos\",\n",
    "    \"user_pos\",\n",
    "    \"lambda_val\",\n",
    "    \"change_rate_x\",\n",
    "    ]\n",
    "    loo = LeaveOneOut()\n",
    "    # the feature matrix in array form\n",
    "    X = subject.drop(columns=drop_ls).to_numpy()\n",
    "    #print(\"The shape of X:\", X.shape)\n",
    "    #y_pos_dif = (subject[\"user_pos\"].to_numpy() - subject[\"stim_pos\"].to_numpy())\n",
    "    y_pos = subject[\"stim_pos\"].to_numpy()  # position\n",
    "    y = y_pos\n",
    "    X_train, X_test, y_train, y_test = train_test_split(X[:size], y[:size], test_size=0.2, random_state=23)  # only 100 samples are used here\n",
    "    #X_train = loo.split(X[:size])\n",
    "    #X_test = ~\n",
    "    #y_train = loo.split(y[:size])\n",
    "    #y_test = ~\n",
    "    return X_train, X_test, y_train, y_test"
   ]
  },
  {
   "cell_type": "code",
   "execution_count": 4,
   "id": "3346c901-a684-4cc2-91be-2f6ce1029c12",
   "metadata": {},
   "outputs": [],
   "source": [
    "def model_ridge(X_train, X_test, y_train, y_test):\n",
    "    loo = LeaveOneOut()\n",
    "    rr = Ridge(random_state=23)\n",
    "    return mean(cross_val_score(rr, X_train, y_train, scoring='neg_mean_absolute_error', cv=loo, n_jobs=-1))"
   ]
  },
  {
   "cell_type": "code",
   "execution_count": 5,
   "id": "1c1fa3e4-b52b-4556-a82d-a305d3bf8c00",
   "metadata": {},
   "outputs": [],
   "source": [
    "scores=[]\n",
    "sub_plot=[]\n",
    "for i in range(0,61):\n",
    "    subject = pd.read_csv(DIRECTORY + arr[i])\n",
    "    rows,columns = subject.shape\n",
    "    X_train, X_test, y_train, y_test = pre_process(subject, rows)\n",
    "    val = model_ridge(X_train, X_test, y_train, y_test)\n",
    "    sub_plot.append(i+1)\n",
    "    scores.append(val)"
   ]
  },
  {
   "cell_type": "code",
   "execution_count": 6,
   "id": "776e3d6b-3f56-445d-9f1d-c2e9c5990113",
   "metadata": {},
   "outputs": [
    {
     "data": {
      "text/plain": [
       "[np.float64(-0.012972925695884034),\n",
       " np.float64(-0.05791105577692935),\n",
       " np.float64(-0.004310465420799794),\n",
       " np.float64(-0.027758224312820975),\n",
       " np.float64(-0.006461635476496278),\n",
       " np.float64(-0.012430553432580494),\n",
       " np.float64(-0.0077150636514525875),\n",
       " np.float64(-0.011413155136971283),\n",
       " np.float64(-0.003430629251950033),\n",
       " np.float64(-0.004284113185381911),\n",
       " np.float64(-0.024228555659780823),\n",
       " np.float64(-0.007010689133157312),\n",
       " np.float64(-0.008777913781547707),\n",
       " np.float64(-0.011829194445629796),\n",
       " np.float64(-0.010075213504672739),\n",
       " np.float64(-0.004372302378864071),\n",
       " np.float64(-0.004470079574441447),\n",
       " np.float64(-0.008540556700364013),\n",
       " np.float64(-0.0032936483616539734),\n",
       " np.float64(-0.02007117989561402),\n",
       " np.float64(-0.019320247393085025),\n",
       " np.float64(-0.005313533851762706),\n",
       " np.float64(-0.010501271908201732),\n",
       " np.float64(-0.006102379471214208),\n",
       " np.float64(-0.008452440119583295),\n",
       " np.float64(-0.010625779463396181),\n",
       " np.float64(-0.013762087024855436),\n",
       " np.float64(-0.008202638185728615),\n",
       " np.float64(-0.036380487399781315),\n",
       " np.float64(-0.0026251498026729505),\n",
       " np.float64(-0.02320625925560325),\n",
       " np.float64(-0.00788947543549455),\n",
       " np.float64(-0.005875412235020397),\n",
       " np.float64(-0.01011541898696219),\n",
       " np.float64(-0.012255057498965197),\n",
       " np.float64(-0.0029937836628923143),\n",
       " np.float64(-0.005648416666606957),\n",
       " np.float64(-0.014112834419823311),\n",
       " np.float64(-0.007144671149964957),\n",
       " np.float64(-0.006608078876401698),\n",
       " np.float64(-0.011130582792871064),\n",
       " np.float64(-0.010162742466483883),\n",
       " np.float64(-0.012616156600438527),\n",
       " np.float64(-0.0057744977989111785),\n",
       " np.float64(-0.0032842568925527927),\n",
       " np.float64(-0.004767478164796614),\n",
       " np.float64(-0.005863147361155617),\n",
       " np.float64(-0.00291861764712505),\n",
       " np.float64(-0.005268145633715348),\n",
       " np.float64(-0.009114526104620548),\n",
       " np.float64(-0.005792163391272736),\n",
       " np.float64(-0.014307288703434501),\n",
       " np.float64(-0.005202526233065287),\n",
       " np.float64(-0.005144446699000886),\n",
       " np.float64(-0.010745488517845467),\n",
       " np.float64(-0.005012545229910578),\n",
       " np.float64(-0.03807972487331278),\n",
       " np.float64(-0.046122846601945836),\n",
       " np.float64(-0.006822043711139473),\n",
       " np.float64(-0.010219130663774363),\n",
       " np.float64(-0.03699176834901831)]"
      ]
     },
     "execution_count": 6,
     "metadata": {},
     "output_type": "execute_result"
    }
   ],
   "source": [
    "scores"
   ]
  },
  {
   "cell_type": "code",
   "execution_count": 7,
   "id": "658a7066-bb32-4c33-9116-e25878dc6ee4",
   "metadata": {},
   "outputs": [
    {
     "data": {
      "text/plain": [
       "[1,\n",
       " 2,\n",
       " 3,\n",
       " 4,\n",
       " 5,\n",
       " 6,\n",
       " 7,\n",
       " 8,\n",
       " 9,\n",
       " 10,\n",
       " 11,\n",
       " 12,\n",
       " 13,\n",
       " 14,\n",
       " 15,\n",
       " 16,\n",
       " 17,\n",
       " 18,\n",
       " 19,\n",
       " 20,\n",
       " 21,\n",
       " 22,\n",
       " 23,\n",
       " 24,\n",
       " 25,\n",
       " 26,\n",
       " 27,\n",
       " 28,\n",
       " 29,\n",
       " 30,\n",
       " 31,\n",
       " 32,\n",
       " 33,\n",
       " 34,\n",
       " 35,\n",
       " 36,\n",
       " 37,\n",
       " 38,\n",
       " 39,\n",
       " 40,\n",
       " 41,\n",
       " 42,\n",
       " 43,\n",
       " 44,\n",
       " 45,\n",
       " 46,\n",
       " 47,\n",
       " 48,\n",
       " 49,\n",
       " 50,\n",
       " 51,\n",
       " 52,\n",
       " 53,\n",
       " 54,\n",
       " 55,\n",
       " 56,\n",
       " 57,\n",
       " 58,\n",
       " 59,\n",
       " 60,\n",
       " 61]"
      ]
     },
     "execution_count": 7,
     "metadata": {},
     "output_type": "execute_result"
    }
   ],
   "source": [
    "sub_plot"
   ]
  },
  {
   "cell_type": "code",
   "execution_count": 10,
   "id": "39d72151-fd72-45c0-90dd-44161858e72f",
   "metadata": {},
   "outputs": [
    {
     "data": {
      "image/png": "[encoded data removed]",
      "text/plain": [
       "<Figure size 640x480 with 1 Axes>"
      ]
     },
     "metadata": {},
     "output_type": "display_data"
    }
   ],
   "source": [
    "x = np.array(sub_plot)\n",
    "y = np.array(scores)\n",
    "plt.plot(x, y, '-o')\n",
    "plt.title(\"y_pos Ridge LOOCV\")\n",
    "plt.xlabel(\"Subjects\")\n",
    "plt.ylabel(\"Accuracy\")\n",
    "\n",
    "plt.show()"
   ]
  },
  {
   "cell_type": "code",
   "execution_count": null,
   "id": "7df247ad-ec71-46aa-87aa-890aa923b45c",
   "metadata": {},
   "outputs": [],
   "source": []
  }
 ],
 "metadata": {
  "kernelspec": {
   "display_name": "Python (ml)",
   "language": "python",
   "name": "ml"
  },
  "language_info": {
   "codemirror_mode": {
    "name": "ipython",
    "version": 3
   },
   "file_extension": ".py",
   "mimetype": "text/x-python",
   "name": "python",
   "nbconvert_exporter": "python",
   "pygments_lexer": "ipython3",
   "version": "3.10.12"
  }
 },
 "nbformat": 4,
 "nbformat_minor": 5
}
